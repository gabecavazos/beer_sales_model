{
 "cells": [
  {
   "cell_type": "code",
   "execution_count": 1,
   "id": "2323025f-d808-433d-9cf7-52523a1a6460",
   "metadata": {},
   "outputs": [],
   "source": [
    "import pandas as pd\n",
    "import numpy as np\n",
    "import matplotlib.pyplot as plt\n",
    "import statsmodels.api as sm\n",
    "import seaborn as sns\n",
    "from datetime import timedelta, datetime\n",
    "import warnings\n",
    "import evaluate\n",
    "warnings.filterwarnings('ignore')"
   ]
  },
  {
   "cell_type": "markdown",
   "id": "8a80e4a9-9c79-4546-9c52-dfee24d73302",
   "metadata": {},
   "source": [
    "# DF with all of texas"
   ]
  },
  {
   "cell_type": "code",
   "execution_count": 11,
   "id": "1db36e33-171d-4211-9d69-410c987c781c",
   "metadata": {},
   "outputs": [],
   "source": [
    "#df = pd.read_csv('Mixed_Beverage_Gross_Receipts.csv')"
   ]
  },
  {
   "cell_type": "code",
   "execution_count": 12,
   "id": "3e6fbdea-7439-4b57-9ac0-f95cb8e81af5",
   "metadata": {},
   "outputs": [
    {
     "data": {
      "text/plain": [
       "Index(['Taxpayer Number', 'Taxpayer Name', 'Taxpayer Address', 'Taxpayer City',\n",
       "       'Taxpayer State', 'Taxpayer Zip', 'Taxpayer County', 'Location Number',\n",
       "       'Location Name', 'Location Address', 'Location City', 'Location State',\n",
       "       'Location Zip', 'Location County', 'Inside/Outside City Limits',\n",
       "       'TABC Permit Number', 'Responsibility Begin Date',\n",
       "       'Responsibility End Date', 'Obligation End Date', 'Liquor Receipts',\n",
       "       'Wine Receipts', 'Beer Receipts', 'Cover Charge Receipts',\n",
       "       'Total Receipts'],\n",
       "      dtype='object')"
      ]
     },
     "execution_count": 12,
     "metadata": {},
     "output_type": "execute_result"
    }
   ],
   "source": [
    "#df.columns"
   ]
  },
  {
   "cell_type": "code",
   "execution_count": 13,
   "id": "b01f8001-fe89-4db4-b320-22f5d6de2aa4",
   "metadata": {},
   "outputs": [
    {
     "data": {
      "text/plain": [
       "Taxpayer Number                 int64\n",
       "Taxpayer Name                  object\n",
       "Taxpayer Address               object\n",
       "Taxpayer City                  object\n",
       "Taxpayer State                 object\n",
       "Taxpayer Zip                  float64\n",
       "Taxpayer County                 int64\n",
       "Location Number                 int64\n",
       "Location Name                  object\n",
       "Location Address               object\n",
       "Location City                  object\n",
       "Location State                 object\n",
       "Location Zip                    int64\n",
       "Location County                 int64\n",
       "Inside/Outside City Limits     object\n",
       "TABC Permit Number             object\n",
       "Responsibility Begin Date      object\n",
       "Responsibility End Date        object\n",
       "Obligation End Date            object\n",
       "Liquor Receipts                 int64\n",
       "Wine Receipts                   int64\n",
       "Beer Receipts                   int64\n",
       "Cover Charge Receipts           int64\n",
       "Total Receipts                  int64\n",
       "dtype: object"
      ]
     },
     "execution_count": 13,
     "metadata": {},
     "output_type": "execute_result"
    }
   ],
   "source": [
    "#df.dtypes"
   ]
  },
  {
   "cell_type": "code",
   "execution_count": 14,
   "id": "7ab5ad14-863d-4b8a-9b1d-ebb6dacd23fc",
   "metadata": {},
   "outputs": [],
   "source": [
    "#make column names more python friendly\n",
    "#df.columns = df.columns.str.lower().str.replace(' ','_').str.replace('/','_')"
   ]
  },
  {
   "cell_type": "code",
   "execution_count": 5,
   "id": "239799ad-f97a-401b-8aa9-27f8d8df28b4",
   "metadata": {},
   "outputs": [
    {
     "data": {
      "text/plain": [
       "taxpayer_number                     0\n",
       "taxpayer_name                       0\n",
       "taxpayer_address                    0\n",
       "taxpayer_city                       0\n",
       "taxpayer_state                   1026\n",
       "taxpayer_zip                     1026\n",
       "taxpayer_county                     0\n",
       "location_number                     0\n",
       "location_name                       0\n",
       "location_address                    0\n",
       "location_city                       0\n",
       "location_state                      0\n",
       "location_zip                        0\n",
       "location_county                     0\n",
       "inside_outside_city_limits          0\n",
       "tabc_permit_number                  0\n",
       "responsibility_begin_date           0\n",
       "responsibility_end_date       1696572\n",
       "obligation_end_date                 0\n",
       "liquor_receipts                     0\n",
       "wine_receipts                       0\n",
       "beer_receipts                       0\n",
       "cover_charge_receipts               0\n",
       "total_receipts                      0\n",
       "dtype: int64"
      ]
     },
     "execution_count": 5,
     "metadata": {},
     "output_type": "execute_result"
    }
   ],
   "source": [
    "#check out our null values\n",
    "#df.isna().sum()"
   ]
  },
  {
   "cell_type": "code",
   "execution_count": 15,
   "id": "5c6a029b-8578-4a32-b08d-87beb9820cc1",
   "metadata": {},
   "outputs": [],
   "source": [
    "#establish all the san antonio zip codes\n",
    "#sa_zips = [78201,78202,78203,78204,78205,78207,78208,78209,78210,78211,78212,78213,78214,78215,78216,78217,78218,78219,78220,78221,78222,78223,78224,78225,78226,78227,78228,78229,78230,78231,78232,78233,78234,78237,78238,78239,78240,78242,78244,78245,78247,78248,78249,78250,78251,78252,78253,78254,78255,78256,78257,78258,78259,78260,78261,78263,78266]"
   ]
  },
  {
   "cell_type": "code",
   "execution_count": 16,
   "id": "126d0702-335c-4f65-b273-a7c61f1239e9",
   "metadata": {},
   "outputs": [],
   "source": [
    "#get a dataframe of just sa_zips\n",
    "#df = df[df.location_zip.isin(sa_zips)]"
   ]
  },
  {
   "cell_type": "code",
   "execution_count": 9,
   "id": "7ccba858-fb7f-440d-a2ef-f542d8045bbd",
   "metadata": {},
   "outputs": [
    {
     "data": {
      "text/plain": [
       "taxpayer_number                    0\n",
       "taxpayer_name                      0\n",
       "taxpayer_address                   0\n",
       "taxpayer_city                      0\n",
       "taxpayer_state                     0\n",
       "taxpayer_zip                       0\n",
       "taxpayer_county                    0\n",
       "location_number                    0\n",
       "location_name                      0\n",
       "location_address                   0\n",
       "location_city                      0\n",
       "location_state                     0\n",
       "location_zip                       0\n",
       "location_county                    0\n",
       "inside_outside_city_limits         0\n",
       "tabc_permit_number                 0\n",
       "responsibility_begin_date          0\n",
       "responsibility_end_date       122764\n",
       "obligation_end_date                0\n",
       "liquor_receipts                    0\n",
       "wine_receipts                      0\n",
       "beer_receipts                      0\n",
       "cover_charge_receipts              0\n",
       "total_receipts                     0\n",
       "dtype: int64"
      ]
     },
     "execution_count": 9,
     "metadata": {},
     "output_type": "execute_result"
    }
   ],
   "source": [
    "#df.isna().sum()"
   ]
  },
  {
   "cell_type": "code",
   "execution_count": 17,
   "id": "fca16076-6f91-4bb1-9e3b-6f9b96c47d7f",
   "metadata": {},
   "outputs": [],
   "source": [
    "#df.to_csv('sa_mixed_bev.csv', index=False)"
   ]
  },
  {
   "cell_type": "markdown",
   "id": "5f17f864-d245-4340-afa8-5c1ef7188eb7",
   "metadata": {},
   "source": [
    "# SAN ANTONIO CSV"
   ]
  },
  {
   "cell_type": "code",
   "execution_count": 2,
   "id": "261bcaf6-2d50-43da-8540-e8e849686daa",
   "metadata": {},
   "outputs": [],
   "source": [
    "df = pd.read_csv('sa_mixed_bev.csv')"
   ]
  },
  {
   "cell_type": "code",
   "execution_count": 3,
   "id": "7ad58cdc-9540-44f5-b924-b0caf5db96bc",
   "metadata": {},
   "outputs": [
    {
     "data": {
      "text/plain": [
       "(198987, 24)"
      ]
     },
     "execution_count": 3,
     "metadata": {},
     "output_type": "execute_result"
    }
   ],
   "source": [
    "df.shape"
   ]
  },
  {
   "cell_type": "code",
   "execution_count": 3,
   "id": "cbf941d6-d95a-4e35-a11f-885aea9c5226",
   "metadata": {},
   "outputs": [
    {
     "data": {
      "text/plain": [
       "Index(['taxpayer_number', 'taxpayer_name', 'taxpayer_address', 'taxpayer_city',\n",
       "       'taxpayer_state', 'taxpayer_zip', 'taxpayer_county', 'location_number',\n",
       "       'location_name', 'location_address', 'location_city', 'location_state',\n",
       "       'location_zip', 'location_county', 'inside_outside_city_limits',\n",
       "       'tabc_permit_number', 'responsibility_begin_date',\n",
       "       'responsibility_end_date', 'obligation_end_date', 'liquor_receipts',\n",
       "       'wine_receipts', 'beer_receipts', 'cover_charge_receipts',\n",
       "       'total_receipts'],\n",
       "      dtype='object')"
      ]
     },
     "execution_count": 32,
     "metadata": {},
     "output_type": "execute_result"
    }
   ],
   "source": [
    "df.columns"
   ]
  },
  {
   "cell_type": "code",
   "execution_count": 4,
   "id": "b01c56bf-af4b-4514-8764-9634ca0ab151",
   "metadata": {},
   "outputs": [
    {
     "data": {
      "text/plain": [
       "0"
      ]
     },
     "execution_count": 4,
     "metadata": {},
     "output_type": "execute_result"
    }
   ],
   "source": [
    "# look at duplicates\n",
    "df.duplicated().sum()"
   ]
  },
  {
   "cell_type": "code",
   "execution_count": 5,
   "id": "1c0016fb-005c-4026-8769-4afca6f7f365",
   "metadata": {},
   "outputs": [
    {
     "data": {
      "text/plain": [
       "taxpayer_number                    0\n",
       "taxpayer_name                      0\n",
       "taxpayer_address                   0\n",
       "taxpayer_city                      0\n",
       "taxpayer_state                     0\n",
       "taxpayer_zip                       0\n",
       "taxpayer_county                    0\n",
       "location_number                    0\n",
       "location_name                      0\n",
       "location_address                   0\n",
       "location_city                      0\n",
       "location_state                     0\n",
       "location_zip                       0\n",
       "location_county                    0\n",
       "inside_outside_city_limits         0\n",
       "tabc_permit_number                 0\n",
       "responsibility_begin_date          0\n",
       "responsibility_end_date       122764\n",
       "obligation_end_date                0\n",
       "liquor_receipts                    0\n",
       "wine_receipts                      0\n",
       "beer_receipts                      0\n",
       "cover_charge_receipts              0\n",
       "total_receipts                     0\n",
       "dtype: int64"
      ]
     },
     "execution_count": 5,
     "metadata": {},
     "output_type": "execute_result"
    }
   ],
   "source": [
    "df.isna().sum()"
   ]
  },
  {
   "cell_type": "code",
   "execution_count": 6,
   "id": "a5b32bc2-e0f5-4bc8-9bfc-18fc91fb155d",
   "metadata": {},
   "outputs": [
    {
     "data": {
      "text/plain": [
       "taxpayer_number                 int64\n",
       "taxpayer_name                  object\n",
       "taxpayer_address               object\n",
       "taxpayer_city                  object\n",
       "taxpayer_state                 object\n",
       "taxpayer_zip                  float64\n",
       "taxpayer_county                 int64\n",
       "location_number                 int64\n",
       "location_name                  object\n",
       "location_address               object\n",
       "location_city                  object\n",
       "location_state                 object\n",
       "location_zip                    int64\n",
       "location_county                 int64\n",
       "inside_outside_city_limits     object\n",
       "tabc_permit_number             object\n",
       "responsibility_begin_date      object\n",
       "responsibility_end_date        object\n",
       "obligation_end_date            object\n",
       "liquor_receipts                 int64\n",
       "wine_receipts                   int64\n",
       "beer_receipts                   int64\n",
       "cover_charge_receipts           int64\n",
       "total_receipts                  int64\n",
       "dtype: object"
      ]
     },
     "execution_count": 6,
     "metadata": {},
     "output_type": "execute_result"
    }
   ],
   "source": [
    "df.dtypes"
   ]
  },
  {
   "cell_type": "markdown",
   "id": "78b2499f-41ee-4fee-bca7-05e4005a289a",
   "metadata": {},
   "source": [
    "Data Prep"
   ]
  },
  {
   "cell_type": "code",
   "execution_count": 40,
   "id": "d2226685-017f-4263-99ba-410bc133a10b",
   "metadata": {},
   "outputs": [],
   "source": [
    "#drop unnecessary column names\n",
    "df = df.drop(columns = ['taxpayer_number','taxpayer_address','taxpayer_county','location_state','tabc_permit_number', 'responsibility_end_date'])\n",
    "#transfer our date time cols to date time\n",
    "df.obligation_end_date = pd.to_datetime(df.obligation_end_date)\n",
    "df.responsibility_begin_date = pd.to_datetime(df.responsibility_begin_date)\n",
    "#transfer our zip codes to catigoricals\n",
    "df.taxpayer_zip = df.taxpayer_zip.astype('O')\n",
    "df.location_zip = df.location_zip.astype('O')\n",
    "# Define the date threshold for 2014 tax burden change\n",
    "threshold_date = pd.Timestamp('2014-01-01')\n",
    "\n",
    "# List the columns to mulitply by tax amount\n",
    "columns_to_multiply = ['liquor_receipts', 'wine_receipts', 'beer_receipts','total_receipts']\n",
    "\n",
    "# Define the threshold date for 2014 tax change\n",
    "threshold_date = pd.Timestamp('2014-01-01')\n",
    "\n",
    "# Loop through each column in the list and apply the multiplication\n",
    "for col in columns_to_multiply:\n",
    "    # Create a new column name for the result\n",
    "    new_col_name = col + '_in_usd'\n",
    "    \n",
    "    # Multiply the column values based on the 'obligation_end_date' condition\n",
    "    df[new_col_name] = df[col].where(df['obligation_end_date'] < threshold_date, df[col] * 0.067)\n",
    "    df[new_col_name] = df[new_col_name].where(df['obligation_end_date'] >= threshold_date, df[col] * 0.14)\n",
    "# create beer ratio column\n",
    "df['beer_ratio'] = (df.beer_receipts / df.total_receipts) * 100\n",
    "#remove those that didn't report beer sales\n",
    "df = df[df.beer_ratio.notna()]"
   ]
  },
  {
   "cell_type": "code",
   "execution_count": 8,
   "id": "bfe45b02-1094-4956-a256-e0eb784f9c10",
   "metadata": {},
   "outputs": [
    {
     "data": {
      "text/plain": [
       "taxpayer_name                 0\n",
       "taxpayer_city                 0\n",
       "taxpayer_state                0\n",
       "taxpayer_zip                  0\n",
       "location_number               0\n",
       "location_name                 0\n",
       "location_address              0\n",
       "location_city                 0\n",
       "location_zip                  0\n",
       "location_county               0\n",
       "inside_outside_city_limits    0\n",
       "responsibility_begin_date     0\n",
       "obligation_end_date           0\n",
       "liquor_receipts               0\n",
       "wine_receipts                 0\n",
       "beer_receipts                 0\n",
       "cover_charge_receipts         0\n",
       "total_receipts                0\n",
       "liquor_receipts_in_usd        0\n",
       "wine_receipts_in_usd          0\n",
       "beer_receipts_in_usd          0\n",
       "total_receipts_in_usd         0\n",
       "beer_ratio                    0\n",
       "dtype: int64"
      ]
     },
     "execution_count": 8,
     "metadata": {},
     "output_type": "execute_result"
    }
   ],
   "source": [
    "df.isna().sum()"
   ]
  },
  {
   "cell_type": "markdown",
   "id": "f3f3cef8-168a-4510-bfd8-f558422503d8",
   "metadata": {},
   "source": [
    "beer ratio first look"
   ]
  },
  {
   "cell_type": "code",
   "execution_count": 13,
   "id": "ab8a5501-c1a9-44c8-a689-db345f0069d0",
   "metadata": {},
   "outputs": [
    {
     "data": {
      "text/plain": [
       "100.0"
      ]
     },
     "execution_count": 13,
     "metadata": {},
     "output_type": "execute_result"
    }
   ],
   "source": [
    "df.beer_ratio.max()"
   ]
  },
  {
   "cell_type": "code",
   "execution_count": 14,
   "id": "812b2747-e5c4-422a-bd02-a67fdee4a30f",
   "metadata": {},
   "outputs": [
    {
     "data": {
      "text/plain": [
       "0.0"
      ]
     },
     "execution_count": 14,
     "metadata": {},
     "output_type": "execute_result"
    }
   ],
   "source": [
    "df.beer_ratio.min()"
   ]
  },
  {
   "cell_type": "markdown",
   "id": "ea05d1a8-9d6a-46a3-9b2b-7a905baa36ee",
   "metadata": {},
   "source": [
    "reporting dates included"
   ]
  },
  {
   "cell_type": "code",
   "execution_count": 8,
   "id": "4fc6cdaa-230a-4543-966a-dd3946b2b0ed",
   "metadata": {},
   "outputs": [
    {
     "data": {
      "text/plain": [
       "Timestamp('2023-03-31 00:00:00')"
      ]
     },
     "execution_count": 8,
     "metadata": {},
     "output_type": "execute_result"
    }
   ],
   "source": [
    "df.obligation_end_date.max()"
   ]
  },
  {
   "cell_type": "code",
   "execution_count": 9,
   "id": "e4df7829-41a5-4472-98c5-2c798d326d23",
   "metadata": {},
   "outputs": [
    {
     "data": {
      "text/plain": [
       "Timestamp('2007-01-31 00:00:00')"
      ]
     },
     "execution_count": 9,
     "metadata": {},
     "output_type": "execute_result"
    }
   ],
   "source": [
    "df.obligation_end_date.min()"
   ]
  },
  {
   "cell_type": "code",
   "execution_count": 10,
   "id": "5749684e-2e55-4bb1-89f2-bfe455cbe7c3",
   "metadata": {},
   "outputs": [
    {
     "data": {
      "text/plain": [
       "Index(['taxpayer_name', 'taxpayer_city', 'taxpayer_state', 'taxpayer_zip',\n",
       "       'location_number', 'location_name', 'location_address', 'location_city',\n",
       "       'location_zip', 'location_county', 'inside_outside_city_limits',\n",
       "       'responsibility_begin_date', 'obligation_end_date', 'liquor_receipts',\n",
       "       'wine_receipts', 'beer_receipts', 'cover_charge_receipts',\n",
       "       'total_receipts', 'liquor_receipts_in_usd', 'wine_receipts_in_usd',\n",
       "       'beer_receipts_in_usd', 'total_receipts_in_usd', 'beer_ratio'],\n",
       "      dtype='object')"
      ]
     },
     "execution_count": 10,
     "metadata": {},
     "output_type": "execute_result"
    }
   ],
   "source": [
    "df.columns"
   ]
  },
  {
   "cell_type": "markdown",
   "id": "657bc04d-9612-4a61-88ef-f5e4da1cf3db",
   "metadata": {},
   "source": [
    "location exploration"
   ]
  },
  {
   "cell_type": "code",
   "execution_count": 10,
   "id": "03bfbcc6-6da7-4fab-9f65-cc8486450f72",
   "metadata": {},
   "outputs": [
    {
     "data": {
      "text/plain": [
       "count     182025\n",
       "unique        56\n",
       "top        78205\n",
       "freq       23538\n",
       "Name: location_zip, dtype: int64"
      ]
     },
     "execution_count": 10,
     "metadata": {},
     "output_type": "execute_result"
    }
   ],
   "source": [
    "df.location_zip.describe()"
   ]
  },
  {
   "cell_type": "code",
   "execution_count": 12,
   "id": "3161eaa0-23ff-40b3-8396-bf3de8b604dd",
   "metadata": {},
   "outputs": [
    {
     "data": {
      "text/plain": [
       "78205    23538\n",
       "78216    14338\n",
       "78209    11981\n",
       "78212     9120\n",
       "78258     8263\n",
       "Name: location_zip, dtype: int64"
      ]
     },
     "execution_count": 12,
     "metadata": {},
     "output_type": "execute_result"
    }
   ],
   "source": [
    "df.location_zip.value_counts().head()"
   ]
  },
  {
   "cell_type": "code",
   "execution_count": 13,
   "id": "1997c54f-5b5d-4012-af3e-8471d5adb89b",
   "metadata": {},
   "outputs": [
    {
     "data": {
      "text/plain": [
       "count   182025.00\n",
       "mean        10.47\n",
       "std         32.23\n",
       "min          1.00\n",
       "25%          1.00\n",
       "50%          1.00\n",
       "75%          3.00\n",
       "max        439.00\n",
       "Name: location_number, dtype: float64"
      ]
     },
     "execution_count": 13,
     "metadata": {},
     "output_type": "execute_result"
    }
   ],
   "source": [
    "df.location_number.describe()"
   ]
  },
  {
   "cell_type": "code",
   "execution_count": 14,
   "id": "4f15ad14-0744-4a5b-9247-cf64730e4e6c",
   "metadata": {},
   "outputs": [
    {
     "data": {
      "text/plain": [
       "1    104415\n",
       "2     24892\n",
       "3     10381\n",
       "4      4916\n",
       "5      3948\n",
       "Name: location_number, dtype: int64"
      ]
     },
     "execution_count": 14,
     "metadata": {},
     "output_type": "execute_result"
    }
   ],
   "source": [
    "df.location_number.value_counts().head()"
   ]
  },
  {
   "cell_type": "markdown",
   "id": "cf3c018f-716b-4e09-9cfd-b0846d44b5c5",
   "metadata": {},
   "source": [
    "beer ratio exploration"
   ]
  },
  {
   "cell_type": "code",
   "execution_count": 15,
   "id": "cf881255-3996-4c82-977c-35e437de4c7f",
   "metadata": {},
   "outputs": [
    {
     "data": {
      "text/plain": [
       "count   182025.00\n",
       "mean        36.11\n",
       "std         20.53\n",
       "min          0.00\n",
       "25%         20.82\n",
       "50%         34.60\n",
       "75%         49.44\n",
       "max        100.00\n",
       "Name: beer_ratio, dtype: float64"
      ]
     },
     "execution_count": 15,
     "metadata": {},
     "output_type": "execute_result"
    }
   ],
   "source": [
    "df.beer_ratio.describe()"
   ]
  },
  {
   "cell_type": "code",
   "execution_count": 46,
   "id": "079ae3a9-848c-417f-b101-634e7a2b2965",
   "metadata": {},
   "outputs": [],
   "source": [
    "# Define the function to categorize the sales_priority\n",
    "def categorize_priority(beer_ratio):\n",
    "    if beer_ratio > 90:\n",
    "        return 'urgent'\n",
    "    elif 75 < beer_ratio <= 90:\n",
    "        return 'high'\n",
    "    elif 50 < beer_ratio <= 75:\n",
    "        return 'mid'\n",
    "    else:\n",
    "        return 'low'\n",
    "\n",
    "# Apply the categorize_priority function to the 'beer_ratio' column and create the new 'br_sales_priority' column\n",
    "df['br_sales_priority'] = df['beer_ratio'].apply(categorize_priority)"
   ]
  },
  {
   "cell_type": "code",
   "execution_count": 42,
   "id": "991e915c-3f8d-4dc7-84f1-7bdcd354db0b",
   "metadata": {},
   "outputs": [],
   "source": [
    "# Updated categorize_priority function\n",
    "def categorize_priority(beer_ratio):\n",
    "    if beer_ratio > 55:\n",
    "        return 'urgent'\n",
    "    elif 50 < beer_ratio <= 55:\n",
    "        return 'high'\n",
    "    elif 40 < beer_ratio <= 50:\n",
    "        return 'mid'\n",
    "    else:\n",
    "        return 'low'\n",
    "\n",
    "# Calculate the average beer_ratio for each zip code\n",
    "average_beer_ratios = df.groupby('location_zip')['beer_ratio'].mean().reset_index()\n",
    "\n",
    "# Apply the categorize_priority function to the average beer_ratios and create the 'zip_sales_priority' column\n",
    "average_beer_ratios['zip_sales_priority'] = average_beer_ratios['beer_ratio'].apply(categorize_priority)\n",
    "\n",
    "# Merge the original DataFrame with the average_beer_ratios DataFrame to add the 'zip_sales_priority' column\n",
    "df = df.merge(average_beer_ratios[['location_zip', 'zip_sales_priority']], on='location_zip', how='left')"
   ]
  },
  {
   "cell_type": "markdown",
   "id": "888993eb-383a-4c0d-a376-c8e07b03ad1e",
   "metadata": {},
   "source": [
    "sales priority"
   ]
  },
  {
   "cell_type": "code",
   "execution_count": 51,
   "id": "c65b9bc0-36ce-44f6-8be7-8fb2534bbd85",
   "metadata": {},
   "outputs": [
    {
     "data": {
      "text/plain": [
       "low       138145\n",
       "mid        36359\n",
       "high        5598\n",
       "urgent      1923\n",
       "Name: br_sales_priority, dtype: int64"
      ]
     },
     "execution_count": 51,
     "metadata": {},
     "output_type": "execute_result"
    }
   ],
   "source": [
    "df.br_sales_priority.value_counts()"
   ]
  },
  {
   "cell_type": "code",
   "execution_count": 52,
   "id": "836a2ae1-b4db-4e6e-a05d-c7fd18114061",
   "metadata": {},
   "outputs": [
    {
     "data": {
      "text/plain": [
       "low       129583\n",
       "mid        42470\n",
       "high        8045\n",
       "urgent      1927\n",
       "Name: zip_sales_priority, dtype: int64"
      ]
     },
     "execution_count": 52,
     "metadata": {},
     "output_type": "execute_result"
    }
   ],
   "source": [
    "df.zip_sales_priority.value_counts()"
   ]
  },
  {
   "cell_type": "code",
   "execution_count": 47,
   "id": "870ec005-3fdf-4466-9f31-376592d8258d",
   "metadata": {},
   "outputs": [
    {
     "data": {
      "text/plain": [
       "Index(['taxpayer_name', 'taxpayer_city', 'taxpayer_state', 'taxpayer_zip',\n",
       "       'location_number', 'location_name', 'location_address', 'location_city',\n",
       "       'location_zip', 'location_county', 'inside_outside_city_limits',\n",
       "       'responsibility_begin_date', 'obligation_end_date', 'liquor_receipts',\n",
       "       'wine_receipts', 'beer_receipts', 'cover_charge_receipts',\n",
       "       'total_receipts', 'liquor_receipts_in_usd', 'wine_receipts_in_usd',\n",
       "       'beer_receipts_in_usd', 'total_receipts_in_usd', 'beer_ratio',\n",
       "       'br_sales_priority', 'zip_sales_priority'],\n",
       "      dtype='object')"
      ]
     },
     "execution_count": 47,
     "metadata": {},
     "output_type": "execute_result"
    }
   ],
   "source": [
    "df.columns"
   ]
  },
  {
   "cell_type": "code",
   "execution_count": 11,
   "id": "65f32ab3-97e5-4b5d-af9b-aa94b373b9be",
   "metadata": {},
   "outputs": [
    {
     "data": {
      "text/plain": [
       "low       138145\n",
       "mid        36359\n",
       "high        5598\n",
       "urgent      1923\n",
       "Name: sales_priority, dtype: int64"
      ]
     },
     "execution_count": 11,
     "metadata": {},
     "output_type": "execute_result"
    }
   ],
   "source": [
    "df.sales_priority.value_counts()"
   ]
  },
  {
   "cell_type": "code",
   "execution_count": null,
   "id": "27997d66-4b5c-4481-a650-08e840b263f9",
   "metadata": {},
   "outputs": [],
   "source": [
    "#create priotity list\n",
    "df[df.sales_priority]"
   ]
  },
  {
   "cell_type": "code",
   "execution_count": 21,
   "id": "c9c034a5-8ec9-4bb6-957a-13a21108b42d",
   "metadata": {},
   "outputs": [
    {
     "data": {
      "image/png": "[encoded data removed]",
      "text/plain": [
       "<Figure size 640x480 with 1 Axes>"
      ]
     },
     "metadata": {},
     "output_type": "display_data"
    }
   ],
   "source": [
    "evaluate.show_distribution(df,'beer_ratio')"
   ]
  },
  {
   "cell_type": "code",
   "execution_count": 44,
   "id": "7a7014a6-ba00-4d74-830b-10858a91123e",
   "metadata": {},
   "outputs": [
    {
     "data": {
      "image/png": "[encoded data removed]",
      "text/plain": [
       "<Figure size 640x480 with 1 Axes>"
      ]
     },
     "metadata": {},
     "output_type": "display_data"
    }
   ],
   "source": [
    "evaluate.show_distribution(df,'zip_sales_priority')"
   ]
  },
  {
   "cell_type": "code",
   "execution_count": 48,
   "id": "cc056d0f-6f9a-4fd9-82e4-4aa421050565",
   "metadata": {},
   "outputs": [
    {
     "data": {
      "image/png": "[encoded data removed]",
      "text/plain": [
       "<Figure size 640x480 with 1 Axes>"
      ]
     },
     "metadata": {},
     "output_type": "display_data"
    }
   ],
   "source": [
    "evaluate.show_distribution(df,'br_sales_priority')"
   ]
  },
  {
   "cell_type": "markdown",
   "id": "e2a8ed7c-6d6b-477e-9e54-51a08f178fca",
   "metadata": {},
   "source": [
    "low priority makes up a lot of the data I'm going to drop half of the lows randomly to balance our data a bit more before modeling"
   ]
  },
  {
   "cell_type": "code",
   "execution_count": 54,
   "id": "f2d2050e-f7df-4fd0-b709-9c1f3f9e3b9d",
   "metadata": {},
   "outputs": [],
   "source": [
    "# Filter rows with low zip_sales_priority or br_sales_priority\n",
    "low_priority_rows = df[(df['zip_sales_priority'] == 'low') | (df['br_sales_priority'] == 'low')]\n",
    "\n",
    "# Calculate the number of rows to drop (60%)\n",
    "num_rows_to_drop = int(0.6 * len(low_priority_rows))\n",
    "\n",
    "# Randomly select rows to drop\n",
    "rows_to_drop = low_priority_rows.sample(num_rows_to_drop, random_state=42).index\n",
    "\n",
    "# Drop the selected rows\n",
    "df = df.drop(rows_to_drop)\n",
    "\n",
    "# To reset the index of the new DataFrame, you can use the following line:\n",
    "df.reset_index(drop=True, inplace=True)"
   ]
  },
  {
   "cell_type": "code",
   "execution_count": 55,
   "id": "9ac4470b-0d70-4bd4-b481-e96284710dcb",
   "metadata": {},
   "outputs": [
    {
     "data": {
      "image/png": "[encoded data removed]",
      "text/plain": [
       "<Figure size 640x480 with 1 Axes>"
      ]
     },
     "metadata": {},
     "output_type": "display_data"
    }
   ],
   "source": [
    "evaluate.show_distribution(df,'br_sales_priority')"
   ]
  },
  {
   "cell_type": "code",
   "execution_count": 56,
   "id": "e02aa9ca-c3f4-4afe-9ad5-3832e74c6f91",
   "metadata": {},
   "outputs": [
    {
     "data": {
      "image/png": "[encoded data removed]",
      "text/plain": [
       "<Figure size 640x480 with 1 Axes>"
      ]
     },
     "metadata": {},
     "output_type": "display_data"
    }
   ],
   "source": [
    "evaluate.show_distribution(df,'zip_sales_priority')"
   ]
  },
  {
   "cell_type": "markdown",
   "id": "8734be37-f61d-404b-b32f-7db3a9117bbf",
   "metadata": {},
   "source": [
    "yeah thats more like it. lets save this df as csv"
   ]
  },
  {
   "cell_type": "code",
   "execution_count": 57,
   "id": "1d36f972-010d-4fed-9357-a2a74730cefe",
   "metadata": {},
   "outputs": [],
   "source": [
    "#df.to_csv('edited_sa_mixed_bev.csv')"
   ]
  },
  {
   "cell_type": "code",
   "execution_count": 9,
   "id": "d8ea1143-5e46-42c0-bf6e-a6ba50b9cc07",
   "metadata": {},
   "outputs": [],
   "source": [
    "df = df.set_index('obligation_end_date').sort_index()"
   ]
  },
  {
   "cell_type": "code",
   "execution_count": 50,
   "id": "8ce48247-a4c7-4ee8-b63a-b1448c2af7ae",
   "metadata": {},
   "outputs": [
    {
     "data": {
      "image/png": "[encoded data removed]",
      "text/plain": [
       "<Figure size 1600x300 with 5 Axes>"
      ]
     },
     "metadata": {},
     "output_type": "display_data"
    }
   ],
   "source": [
    "evaluate.get_box(df)"
   ]
  },
  {
   "cell_type": "code",
   "execution_count": 4,
   "id": "19d80eb7-2324-434d-983e-c867e990bbf1",
   "metadata": {},
   "outputs": [
    {
     "data": {
      "image/png": "[encoded data removed]",
      "text/plain": [
       "<Figure size 1600x300 with 5 Axes>"
      ]
     },
     "metadata": {},
     "output_type": "display_data"
    }
   ],
   "source": [
    "#just doing this to get a better look at averages,  the ourliers are pretty crazy in this data\n",
    "df = evaluate.remove_outliers(df,k=1.5,col_list=['liquor_receipts_in_usd', 'wine_receipts_in_usd',\n",
    "       'beer_receipts_in_usd', 'total_receipts_in_usd', 'beer_ratio'])\n",
    "evaluate.get_box(df)"
   ]
  },
  {
   "cell_type": "code",
   "execution_count": null,
   "id": "1e4b2457-870b-48a2-92c4-35fe75abc7da",
   "metadata": {},
   "outputs": [],
   "source": []
  },
  {
   "cell_type": "code",
   "execution_count": null,
   "id": "57059e07-be9b-4581-a389-e3fd86d2885f",
   "metadata": {},
   "outputs": [],
   "source": []
  },
  {
   "cell_type": "markdown",
   "id": "acc8dd0f-8959-40d2-adb2-2b07db38174d",
   "metadata": {},
   "source": [
    "getting ready for tsa modeling"
   ]
  },
  {
   "cell_type": "code",
   "execution_count": 15,
   "id": "e32a4834-d763-4b7c-8c40-7a165561be99",
   "metadata": {},
   "outputs": [],
   "source": [
    "# Filter rows with obligation_end_date in 2021 and 2022\n",
    "filtered_df = df[(df['obligation_end_date'].dt.year == 2021) | (df['obligation_end_date'].dt.year == 2022)]\n",
    "\n",
    "# To reset the index of the new DataFrame, you can use the following line:\n",
    "filtered_df.reset_index(drop=True, inplace=True)"
   ]
  },
  {
   "cell_type": "code",
   "execution_count": 16,
   "id": "cde91437-eb0b-43d6-9e42-f88b20eec944",
   "metadata": {},
   "outputs": [
    {
     "data": {
      "text/plain": [
       "taxpayer_name                 0\n",
       "taxpayer_city                 0\n",
       "taxpayer_state                0\n",
       "taxpayer_zip                  0\n",
       "location_number               0\n",
       "location_name                 0\n",
       "location_address              0\n",
       "location_city                 0\n",
       "location_zip                  0\n",
       "location_county               0\n",
       "inside_outside_city_limits    0\n",
       "responsibility_begin_date     0\n",
       "obligation_end_date           0\n",
       "liquor_receipts               0\n",
       "wine_receipts                 0\n",
       "beer_receipts                 0\n",
       "cover_charge_receipts         0\n",
       "total_receipts                0\n",
       "liquor_receipts_in_usd        0\n",
       "wine_receipts_in_usd          0\n",
       "beer_receipts_in_usd          0\n",
       "total_receipts_in_usd         0\n",
       "beer_ratio                    0\n",
       "dtype: int64"
      ]
     },
     "execution_count": 16,
     "metadata": {},
     "output_type": "execute_result"
    }
   ],
   "source": [
    "filtered_df.isna().sum()"
   ]
  },
  {
   "cell_type": "code",
   "execution_count": 17,
   "id": "cf055c4c-4d77-41d7-bb17-4558235621c0",
   "metadata": {},
   "outputs": [],
   "source": [
    "filtered_df = filtered_df.set_index('obligation_end_date').sort_index()"
   ]
  },
  {
   "cell_type": "code",
   "execution_count": 18,
   "id": "cd9a3da4-2729-44c6-9dab-9dbe8eba2549",
   "metadata": {},
   "outputs": [
    {
     "data": {
      "text/html": [
       "<div>\n",
       "<style scoped>\n",
       "    .dataframe tbody tr th:only-of-type {\n",
       "        vertical-align: middle;\n",
       "    }\n",
       "\n",
       "    .dataframe tbody tr th {\n",
       "        vertical-align: top;\n",
       "    }\n",
       "\n",
       "    .dataframe thead th {\n",
       "        text-align: right;\n",
       "    }\n",
       "</style>\n",
       "<table border=\"1\" class=\"dataframe\">\n",
       "  <thead>\n",
       "    <tr style=\"text-align: right;\">\n",
       "      <th></th>\n",
       "      <th>taxpayer_name</th>\n",
       "      <th>taxpayer_city</th>\n",
       "      <th>taxpayer_state</th>\n",
       "      <th>taxpayer_zip</th>\n",
       "      <th>location_number</th>\n",
       "      <th>location_name</th>\n",
       "      <th>location_address</th>\n",
       "      <th>location_city</th>\n",
       "      <th>location_zip</th>\n",
       "      <th>location_county</th>\n",
       "      <th>...</th>\n",
       "      <th>liquor_receipts</th>\n",
       "      <th>wine_receipts</th>\n",
       "      <th>beer_receipts</th>\n",
       "      <th>cover_charge_receipts</th>\n",
       "      <th>total_receipts</th>\n",
       "      <th>liquor_receipts_in_usd</th>\n",
       "      <th>wine_receipts_in_usd</th>\n",
       "      <th>beer_receipts_in_usd</th>\n",
       "      <th>total_receipts_in_usd</th>\n",
       "      <th>beer_ratio</th>\n",
       "    </tr>\n",
       "    <tr>\n",
       "      <th>obligation_end_date</th>\n",
       "      <th></th>\n",
       "      <th></th>\n",
       "      <th></th>\n",
       "      <th></th>\n",
       "      <th></th>\n",
       "      <th></th>\n",
       "      <th></th>\n",
       "      <th></th>\n",
       "      <th></th>\n",
       "      <th></th>\n",
       "      <th></th>\n",
       "      <th></th>\n",
       "      <th></th>\n",
       "      <th></th>\n",
       "      <th></th>\n",
       "      <th></th>\n",
       "      <th></th>\n",
       "      <th></th>\n",
       "      <th></th>\n",
       "      <th></th>\n",
       "      <th></th>\n",
       "    </tr>\n",
       "  </thead>\n",
       "  <tbody>\n",
       "    <tr>\n",
       "      <th>2021-01-31</th>\n",
       "      <td>UNTITLED, LLC</td>\n",
       "      <td>AUSTIN</td>\n",
       "      <td>TX</td>\n",
       "      <td>78731.0</td>\n",
       "      <td>2</td>\n",
       "      <td>HOPSCOTCH</td>\n",
       "      <td>711 NAVARRO ST STE 100</td>\n",
       "      <td>SAN ANTONIO</td>\n",
       "      <td>78205</td>\n",
       "      <td>15</td>\n",
       "      <td>...</td>\n",
       "      <td>10997</td>\n",
       "      <td>648</td>\n",
       "      <td>1276</td>\n",
       "      <td>0</td>\n",
       "      <td>12921</td>\n",
       "      <td>736.799</td>\n",
       "      <td>43.416</td>\n",
       "      <td>85.492</td>\n",
       "      <td>865.707</td>\n",
       "      <td>9.875397</td>\n",
       "    </tr>\n",
       "    <tr>\n",
       "      <th>2021-01-31</th>\n",
       "      <td>BARS R US INC.</td>\n",
       "      <td>SAN ANTONIO</td>\n",
       "      <td>TX</td>\n",
       "      <td>78216.0</td>\n",
       "      <td>1</td>\n",
       "      <td>THIRSTY TURTLE</td>\n",
       "      <td>1626 NE LOOP 410</td>\n",
       "      <td>SAN ANTONIO</td>\n",
       "      <td>78209</td>\n",
       "      <td>15</td>\n",
       "      <td>...</td>\n",
       "      <td>27522</td>\n",
       "      <td>8</td>\n",
       "      <td>15459</td>\n",
       "      <td>0</td>\n",
       "      <td>42989</td>\n",
       "      <td>1843.974</td>\n",
       "      <td>0.536</td>\n",
       "      <td>1035.753</td>\n",
       "      <td>2880.263</td>\n",
       "      <td>35.960362</td>\n",
       "    </tr>\n",
       "    <tr>\n",
       "      <th>2021-01-31</th>\n",
       "      <td>SANTIKOS BEVERAGES, LLC</td>\n",
       "      <td>SAN ANTONIO</td>\n",
       "      <td>TX</td>\n",
       "      <td>78249.0</td>\n",
       "      <td>5</td>\n",
       "      <td>SANTIKOS MAYAN PALACE</td>\n",
       "      <td>1918 SW MILITARY DR</td>\n",
       "      <td>SAN ANTONIO</td>\n",
       "      <td>78221</td>\n",
       "      <td>15</td>\n",
       "      <td>...</td>\n",
       "      <td>2770</td>\n",
       "      <td>360</td>\n",
       "      <td>2393</td>\n",
       "      <td>0</td>\n",
       "      <td>5523</td>\n",
       "      <td>185.590</td>\n",
       "      <td>24.120</td>\n",
       "      <td>160.331</td>\n",
       "      <td>370.041</td>\n",
       "      <td>43.327902</td>\n",
       "    </tr>\n",
       "    <tr>\n",
       "      <th>2021-01-31</th>\n",
       "      <td>HEB BEVERAGE COMPANY, LLC</td>\n",
       "      <td>SAN ANTONIO</td>\n",
       "      <td>TX</td>\n",
       "      <td>78283.0</td>\n",
       "      <td>439</td>\n",
       "      <td>HEB TRUE TEXAS BBQ (658)</td>\n",
       "      <td>23635 WILDERNESS OAK</td>\n",
       "      <td>SAN ANTONIO</td>\n",
       "      <td>78258</td>\n",
       "      <td>15</td>\n",
       "      <td>...</td>\n",
       "      <td>6238</td>\n",
       "      <td>1064</td>\n",
       "      <td>4813</td>\n",
       "      <td>0</td>\n",
       "      <td>12115</td>\n",
       "      <td>417.946</td>\n",
       "      <td>71.288</td>\n",
       "      <td>322.471</td>\n",
       "      <td>811.705</td>\n",
       "      <td>39.727610</td>\n",
       "    </tr>\n",
       "    <tr>\n",
       "      <th>2021-01-31</th>\n",
       "      <td>SANANTONIO CONNALLY LLC</td>\n",
       "      <td>AUSTIN</td>\n",
       "      <td>TX</td>\n",
       "      <td>78709.0</td>\n",
       "      <td>1</td>\n",
       "      <td>JOHNNY CARINOS</td>\n",
       "      <td>231 SW LOOP 410</td>\n",
       "      <td>SAN ANTONIO</td>\n",
       "      <td>78245</td>\n",
       "      <td>15</td>\n",
       "      <td>...</td>\n",
       "      <td>4860</td>\n",
       "      <td>1632</td>\n",
       "      <td>4447</td>\n",
       "      <td>0</td>\n",
       "      <td>10939</td>\n",
       "      <td>325.620</td>\n",
       "      <td>109.344</td>\n",
       "      <td>297.949</td>\n",
       "      <td>732.913</td>\n",
       "      <td>40.652710</td>\n",
       "    </tr>\n",
       "    <tr>\n",
       "      <th>...</th>\n",
       "      <td>...</td>\n",
       "      <td>...</td>\n",
       "      <td>...</td>\n",
       "      <td>...</td>\n",
       "      <td>...</td>\n",
       "      <td>...</td>\n",
       "      <td>...</td>\n",
       "      <td>...</td>\n",
       "      <td>...</td>\n",
       "      <td>...</td>\n",
       "      <td>...</td>\n",
       "      <td>...</td>\n",
       "      <td>...</td>\n",
       "      <td>...</td>\n",
       "      <td>...</td>\n",
       "      <td>...</td>\n",
       "      <td>...</td>\n",
       "      <td>...</td>\n",
       "      <td>...</td>\n",
       "      <td>...</td>\n",
       "      <td>...</td>\n",
       "    </tr>\n",
       "    <tr>\n",
       "      <th>2022-12-31</th>\n",
       "      <td>POTBELLY STOVE LLC</td>\n",
       "      <td>SAN ANTONIO</td>\n",
       "      <td>TX</td>\n",
       "      <td>78250.0</td>\n",
       "      <td>4</td>\n",
       "      <td>SMASHIN CRAB</td>\n",
       "      <td>11975 ALAMO RANCH PKWY STE 110</td>\n",
       "      <td>SAN ANTONIO</td>\n",
       "      <td>78253</td>\n",
       "      <td>15</td>\n",
       "      <td>...</td>\n",
       "      <td>11077</td>\n",
       "      <td>212</td>\n",
       "      <td>5349</td>\n",
       "      <td>0</td>\n",
       "      <td>16638</td>\n",
       "      <td>742.159</td>\n",
       "      <td>14.204</td>\n",
       "      <td>358.383</td>\n",
       "      <td>1114.746</td>\n",
       "      <td>32.149297</td>\n",
       "    </tr>\n",
       "    <tr>\n",
       "      <th>2022-12-31</th>\n",
       "      <td>THE FRUTERIA Y BOTANERO, LLC</td>\n",
       "      <td>SAN ANTONIO</td>\n",
       "      <td>TX</td>\n",
       "      <td>78204.0</td>\n",
       "      <td>1</td>\n",
       "      <td>THE FRUTERIA</td>\n",
       "      <td>1401 S FLORES ST # 102</td>\n",
       "      <td>SAN ANTONIO</td>\n",
       "      <td>78204</td>\n",
       "      <td>15</td>\n",
       "      <td>...</td>\n",
       "      <td>22284</td>\n",
       "      <td>671</td>\n",
       "      <td>1499</td>\n",
       "      <td>0</td>\n",
       "      <td>24454</td>\n",
       "      <td>1493.028</td>\n",
       "      <td>44.957</td>\n",
       "      <td>100.433</td>\n",
       "      <td>1638.418</td>\n",
       "      <td>6.129877</td>\n",
       "    </tr>\n",
       "    <tr>\n",
       "      <th>2022-12-31</th>\n",
       "      <td>FRAC CLEAN, LLC</td>\n",
       "      <td>BOERNE</td>\n",
       "      <td>TX</td>\n",
       "      <td>78015.0</td>\n",
       "      <td>2</td>\n",
       "      <td>TREE HOUSE</td>\n",
       "      <td>7905 BANDERA RD # C</td>\n",
       "      <td>SAN ANTONIO</td>\n",
       "      <td>78250</td>\n",
       "      <td>15</td>\n",
       "      <td>...</td>\n",
       "      <td>29027</td>\n",
       "      <td>78</td>\n",
       "      <td>24034</td>\n",
       "      <td>0</td>\n",
       "      <td>53139</td>\n",
       "      <td>1944.809</td>\n",
       "      <td>5.226</td>\n",
       "      <td>1610.278</td>\n",
       "      <td>3560.313</td>\n",
       "      <td>45.228552</td>\n",
       "    </tr>\n",
       "    <tr>\n",
       "      <th>2022-12-31</th>\n",
       "      <td>GDAR, LLC</td>\n",
       "      <td>SAN ANTONIO</td>\n",
       "      <td>TX</td>\n",
       "      <td>78216.0</td>\n",
       "      <td>1</td>\n",
       "      <td>MAX &amp; LOUIE'S</td>\n",
       "      <td>226 W BITTERS RD STE 126</td>\n",
       "      <td>SAN ANTONIO</td>\n",
       "      <td>78216</td>\n",
       "      <td>15</td>\n",
       "      <td>...</td>\n",
       "      <td>13303</td>\n",
       "      <td>7446</td>\n",
       "      <td>3795</td>\n",
       "      <td>0</td>\n",
       "      <td>24544</td>\n",
       "      <td>891.301</td>\n",
       "      <td>498.882</td>\n",
       "      <td>254.265</td>\n",
       "      <td>1644.448</td>\n",
       "      <td>15.462027</td>\n",
       "    </tr>\n",
       "    <tr>\n",
       "      <th>2022-12-31</th>\n",
       "      <td>HARWOOD-COOK, LIMITED LIABILITY COMPANY</td>\n",
       "      <td>SAN ANTONIO</td>\n",
       "      <td>TX</td>\n",
       "      <td>78209.0</td>\n",
       "      <td>2</td>\n",
       "      <td>THE S.A. COUNTRY SALOON</td>\n",
       "      <td>1134 W HILDEBRAND AVE</td>\n",
       "      <td>SAN ANTONIO</td>\n",
       "      <td>78201</td>\n",
       "      <td>15</td>\n",
       "      <td>...</td>\n",
       "      <td>18092</td>\n",
       "      <td>79</td>\n",
       "      <td>9441</td>\n",
       "      <td>0</td>\n",
       "      <td>27612</td>\n",
       "      <td>1212.164</td>\n",
       "      <td>5.293</td>\n",
       "      <td>632.547</td>\n",
       "      <td>1850.004</td>\n",
       "      <td>34.191656</td>\n",
       "    </tr>\n",
       "  </tbody>\n",
       "</table>\n",
       "<p>26626 rows × 22 columns</p>\n",
       "</div>"
      ],
      "text/plain": [
       "                                               taxpayer_name taxpayer_city  \\\n",
       "obligation_end_date                                                          \n",
       "2021-01-31                                     UNTITLED, LLC        AUSTIN   \n",
       "2021-01-31                                    BARS R US INC.   SAN ANTONIO   \n",
       "2021-01-31                           SANTIKOS BEVERAGES, LLC   SAN ANTONIO   \n",
       "2021-01-31                         HEB BEVERAGE COMPANY, LLC   SAN ANTONIO   \n",
       "2021-01-31                           SANANTONIO CONNALLY LLC        AUSTIN   \n",
       "...                                                      ...           ...   \n",
       "2022-12-31                                POTBELLY STOVE LLC   SAN ANTONIO   \n",
       "2022-12-31                      THE FRUTERIA Y BOTANERO, LLC   SAN ANTONIO   \n",
       "2022-12-31                                   FRAC CLEAN, LLC        BOERNE   \n",
       "2022-12-31                                         GDAR, LLC   SAN ANTONIO   \n",
       "2022-12-31           HARWOOD-COOK, LIMITED LIABILITY COMPANY   SAN ANTONIO   \n",
       "\n",
       "                    taxpayer_state taxpayer_zip  location_number  \\\n",
       "obligation_end_date                                                \n",
       "2021-01-31                      TX      78731.0                2   \n",
       "2021-01-31                      TX      78216.0                1   \n",
       "2021-01-31                      TX      78249.0                5   \n",
       "2021-01-31                      TX      78283.0              439   \n",
       "2021-01-31                      TX      78709.0                1   \n",
       "...                            ...          ...              ...   \n",
       "2022-12-31                      TX      78250.0                4   \n",
       "2022-12-31                      TX      78204.0                1   \n",
       "2022-12-31                      TX      78015.0                2   \n",
       "2022-12-31                      TX      78216.0                1   \n",
       "2022-12-31                      TX      78209.0                2   \n",
       "\n",
       "                                location_name                location_address  \\\n",
       "obligation_end_date                                                             \n",
       "2021-01-31                          HOPSCOTCH          711 NAVARRO ST STE 100   \n",
       "2021-01-31                     THIRSTY TURTLE                1626 NE LOOP 410   \n",
       "2021-01-31              SANTIKOS MAYAN PALACE             1918 SW MILITARY DR   \n",
       "2021-01-31           HEB TRUE TEXAS BBQ (658)            23635 WILDERNESS OAK   \n",
       "2021-01-31                     JOHNNY CARINOS                 231 SW LOOP 410   \n",
       "...                                       ...                             ...   \n",
       "2022-12-31                       SMASHIN CRAB  11975 ALAMO RANCH PKWY STE 110   \n",
       "2022-12-31                       THE FRUTERIA          1401 S FLORES ST # 102   \n",
       "2022-12-31                         TREE HOUSE             7905 BANDERA RD # C   \n",
       "2022-12-31                      MAX & LOUIE'S        226 W BITTERS RD STE 126   \n",
       "2022-12-31            THE S.A. COUNTRY SALOON           1134 W HILDEBRAND AVE   \n",
       "\n",
       "                    location_city location_zip  location_county  ...  \\\n",
       "obligation_end_date                                              ...   \n",
       "2021-01-31            SAN ANTONIO        78205               15  ...   \n",
       "2021-01-31            SAN ANTONIO        78209               15  ...   \n",
       "2021-01-31            SAN ANTONIO        78221               15  ...   \n",
       "2021-01-31            SAN ANTONIO        78258               15  ...   \n",
       "2021-01-31            SAN ANTONIO        78245               15  ...   \n",
       "...                           ...          ...              ...  ...   \n",
       "2022-12-31            SAN ANTONIO        78253               15  ...   \n",
       "2022-12-31            SAN ANTONIO        78204               15  ...   \n",
       "2022-12-31            SAN ANTONIO        78250               15  ...   \n",
       "2022-12-31            SAN ANTONIO        78216               15  ...   \n",
       "2022-12-31            SAN ANTONIO        78201               15  ...   \n",
       "\n",
       "                    liquor_receipts wine_receipts  beer_receipts  \\\n",
       "obligation_end_date                                                \n",
       "2021-01-31                    10997           648           1276   \n",
       "2021-01-31                    27522             8          15459   \n",
       "2021-01-31                     2770           360           2393   \n",
       "2021-01-31                     6238          1064           4813   \n",
       "2021-01-31                     4860          1632           4447   \n",
       "...                             ...           ...            ...   \n",
       "2022-12-31                    11077           212           5349   \n",
       "2022-12-31                    22284           671           1499   \n",
       "2022-12-31                    29027            78          24034   \n",
       "2022-12-31                    13303          7446           3795   \n",
       "2022-12-31                    18092            79           9441   \n",
       "\n",
       "                     cover_charge_receipts  total_receipts  \\\n",
       "obligation_end_date                                          \n",
       "2021-01-31                               0           12921   \n",
       "2021-01-31                               0           42989   \n",
       "2021-01-31                               0            5523   \n",
       "2021-01-31                               0           12115   \n",
       "2021-01-31                               0           10939   \n",
       "...                                    ...             ...   \n",
       "2022-12-31                               0           16638   \n",
       "2022-12-31                               0           24454   \n",
       "2022-12-31                               0           53139   \n",
       "2022-12-31                               0           24544   \n",
       "2022-12-31                               0           27612   \n",
       "\n",
       "                     liquor_receipts_in_usd  wine_receipts_in_usd  \\\n",
       "obligation_end_date                                                 \n",
       "2021-01-31                          736.799                43.416   \n",
       "2021-01-31                         1843.974                 0.536   \n",
       "2021-01-31                          185.590                24.120   \n",
       "2021-01-31                          417.946                71.288   \n",
       "2021-01-31                          325.620               109.344   \n",
       "...                                     ...                   ...   \n",
       "2022-12-31                          742.159                14.204   \n",
       "2022-12-31                         1493.028                44.957   \n",
       "2022-12-31                         1944.809                 5.226   \n",
       "2022-12-31                          891.301               498.882   \n",
       "2022-12-31                         1212.164                 5.293   \n",
       "\n",
       "                     beer_receipts_in_usd  total_receipts_in_usd  beer_ratio  \n",
       "obligation_end_date                                                           \n",
       "2021-01-31                         85.492                865.707    9.875397  \n",
       "2021-01-31                       1035.753               2880.263   35.960362  \n",
       "2021-01-31                        160.331                370.041   43.327902  \n",
       "2021-01-31                        322.471                811.705   39.727610  \n",
       "2021-01-31                        297.949                732.913   40.652710  \n",
       "...                                   ...                    ...         ...  \n",
       "2022-12-31                        358.383               1114.746   32.149297  \n",
       "2022-12-31                        100.433               1638.418    6.129877  \n",
       "2022-12-31                       1610.278               3560.313   45.228552  \n",
       "2022-12-31                        254.265               1644.448   15.462027  \n",
       "2022-12-31                        632.547               1850.004   34.191656  \n",
       "\n",
       "[26626 rows x 22 columns]"
      ]
     },
     "execution_count": 18,
     "metadata": {},
     "output_type": "execute_result"
    }
   ],
   "source": [
    "filtered_df"
   ]
  },
  {
   "cell_type": "code",
   "execution_count": 26,
   "id": "6a2e8584-091f-4777-81ad-c29980d7cb1c",
   "metadata": {},
   "outputs": [
    {
     "data": {
      "text/plain": [
       "<pandas.core.resample.DatetimeIndexResampler object at 0x0000022C132C3520>"
      ]
     },
     "execution_count": 26,
     "metadata": {},
     "output_type": "execute_result"
    }
   ],
   "source": [
    "df.resample('D')"
   ]
  },
  {
   "cell_type": "code",
   "execution_count": 28,
   "id": "e2e5ea1e-5190-4d98-b57d-b60bf755cb10",
   "metadata": {},
   "outputs": [],
   "source": [
    "df = df.dropna()"
   ]
  },
  {
   "cell_type": "code",
   "execution_count": 27,
   "id": "2273e447-9284-4c70-839d-cd5fc4bba84c",
   "metadata": {},
   "outputs": [
    {
     "data": {
      "text/plain": [
       "taxpayer_name                      0\n",
       "taxpayer_city                      0\n",
       "taxpayer_state                     0\n",
       "taxpayer_zip                       0\n",
       "location_number                    0\n",
       "location_name                      0\n",
       "location_address                   0\n",
       "location_city                      0\n",
       "location_zip                       0\n",
       "location_county                    0\n",
       "inside_outside_city_limits         0\n",
       "responsibility_begin_date          0\n",
       "responsibility_end_date       122764\n",
       "liquor_receipts                    0\n",
       "wine_receipts                      0\n",
       "beer_receipts                      0\n",
       "cover_charge_receipts              0\n",
       "total_receipts                     0\n",
       "dtype: int64"
      ]
     },
     "execution_count": 27,
     "metadata": {},
     "output_type": "execute_result"
    }
   ],
   "source": [
    "df.isna().sum()"
   ]
  },
  {
   "cell_type": "code",
   "execution_count": 30,
   "id": "e27e0388-48b7-4f92-87ee-5bb004060a44",
   "metadata": {},
   "outputs": [
    {
     "data": {
      "text/plain": [
       "(2947222, 23)"
      ]
     },
     "execution_count": 30,
     "metadata": {},
     "output_type": "execute_result"
    }
   ],
   "source": [
    "df.shape"
   ]
  },
  {
   "cell_type": "code",
   "execution_count": 33,
   "id": "0414af83-12ab-4e54-be20-11e6ef13f064",
   "metadata": {},
   "outputs": [
    {
     "data": {
      "text/plain": [
       "Y    2715702\n",
       "N     231520\n",
       "Name: inside_outside_city_limits, dtype: int64"
      ]
     },
     "execution_count": 33,
     "metadata": {},
     "output_type": "execute_result"
    }
   ],
   "source": [
    "df.inside_outside_city_limits.value_counts()"
   ]
  },
  {
   "cell_type": "code",
   "execution_count": 35,
   "id": "462b02d6-9952-44eb-b0e7-cb58c9bb0343",
   "metadata": {},
   "outputs": [
    {
     "data": {
      "text/html": [
       "<div>\n",
       "<style scoped>\n",
       "    .dataframe tbody tr th:only-of-type {\n",
       "        vertical-align: middle;\n",
       "    }\n",
       "\n",
       "    .dataframe tbody tr th {\n",
       "        vertical-align: top;\n",
       "    }\n",
       "\n",
       "    .dataframe thead th {\n",
       "        text-align: right;\n",
       "    }\n",
       "</style>\n",
       "<table border=\"1\" class=\"dataframe\">\n",
       "  <thead>\n",
       "    <tr style=\"text-align: right;\">\n",
       "      <th></th>\n",
       "      <th>taxpayer_number</th>\n",
       "      <th>taxpayer_name</th>\n",
       "      <th>taxpayer_address</th>\n",
       "      <th>taxpayer_city</th>\n",
       "      <th>taxpayer_state</th>\n",
       "      <th>taxpayer_zip</th>\n",
       "      <th>taxpayer_county</th>\n",
       "      <th>location_number</th>\n",
       "      <th>location_name</th>\n",
       "      <th>location_address</th>\n",
       "      <th>...</th>\n",
       "      <th>location_county</th>\n",
       "      <th>inside_outside_city_limits</th>\n",
       "      <th>tabc_permit_number</th>\n",
       "      <th>responsibility_begin_date</th>\n",
       "      <th>obligation_end_date</th>\n",
       "      <th>liquor_receipts</th>\n",
       "      <th>wine_receipts</th>\n",
       "      <th>beer_receipts</th>\n",
       "      <th>cover_charge_receipts</th>\n",
       "      <th>total_receipts</th>\n",
       "    </tr>\n",
       "  </thead>\n",
       "  <tbody>\n",
       "    <tr>\n",
       "      <th>0</th>\n",
       "      <td>32047970895</td>\n",
       "      <td>HONDURAS MAYA CAFE &amp; BAR LLC</td>\n",
       "      <td>8011 HAZEN ST</td>\n",
       "      <td>HOUSTON</td>\n",
       "      <td>TX</td>\n",
       "      <td>77036.0</td>\n",
       "      <td>101</td>\n",
       "      <td>1</td>\n",
       "      <td>HONDURAS MAYA CAFE &amp; BAR LLC</td>\n",
       "      <td>5945 BELLAIRE BLVD STE B</td>\n",
       "      <td>...</td>\n",
       "      <td>101</td>\n",
       "      <td>Y</td>\n",
       "      <td>MB817033</td>\n",
       "      <td>08/16/2012</td>\n",
       "      <td>07/31/2019</td>\n",
       "      <td>0</td>\n",
       "      <td>0</td>\n",
       "      <td>0</td>\n",
       "      <td>0</td>\n",
       "      <td>0</td>\n",
       "    </tr>\n",
       "    <tr>\n",
       "      <th>1</th>\n",
       "      <td>32049923835</td>\n",
       "      <td>MERMAID KARAOKE PRIVATE CLUB, INC.</td>\n",
       "      <td>2639 WALNUT HILL LN STE 225</td>\n",
       "      <td>DALLAS</td>\n",
       "      <td>TX</td>\n",
       "      <td>75229.0</td>\n",
       "      <td>57</td>\n",
       "      <td>1</td>\n",
       "      <td>MERMAID KARAOKE PRIVATE CLUB</td>\n",
       "      <td>1310 W CAMPBELL RD STE 103</td>\n",
       "      <td>...</td>\n",
       "      <td>57</td>\n",
       "      <td>Y</td>\n",
       "      <td>N 837378</td>\n",
       "      <td>04/12/2013</td>\n",
       "      <td>08/31/2014</td>\n",
       "      <td>480</td>\n",
       "      <td>185</td>\n",
       "      <td>1374</td>\n",
       "      <td>0</td>\n",
       "      <td>2039</td>\n",
       "    </tr>\n",
       "    <tr>\n",
       "      <th>2</th>\n",
       "      <td>32034036304</td>\n",
       "      <td>FENG KAI CORPORATION</td>\n",
       "      <td>8427 BOULEVARD 26</td>\n",
       "      <td>N RICHLND HLS</td>\n",
       "      <td>TX</td>\n",
       "      <td>76180.0</td>\n",
       "      <td>220</td>\n",
       "      <td>1</td>\n",
       "      <td>JAPANESE GRILL</td>\n",
       "      <td>8427 BOULEVARD 26</td>\n",
       "      <td>...</td>\n",
       "      <td>220</td>\n",
       "      <td>Y</td>\n",
       "      <td>MB576670</td>\n",
       "      <td>05/01/2008</td>\n",
       "      <td>06/30/2016</td>\n",
       "      <td>1143</td>\n",
       "      <td>167</td>\n",
       "      <td>669</td>\n",
       "      <td>0</td>\n",
       "      <td>1979</td>\n",
       "    </tr>\n",
       "    <tr>\n",
       "      <th>3</th>\n",
       "      <td>14537211071</td>\n",
       "      <td>THE HUTTO SMITHS, LLC</td>\n",
       "      <td>429 LITTLE LAKE RD</td>\n",
       "      <td>HUTTO</td>\n",
       "      <td>TX</td>\n",
       "      <td>78634.0</td>\n",
       "      <td>246</td>\n",
       "      <td>1</td>\n",
       "      <td>THE DOWNTOWN HALL OF FAME</td>\n",
       "      <td>205 EAST ST</td>\n",
       "      <td>...</td>\n",
       "      <td>246</td>\n",
       "      <td>Y</td>\n",
       "      <td>MB791778</td>\n",
       "      <td>12/06/2011</td>\n",
       "      <td>03/31/2018</td>\n",
       "      <td>12881</td>\n",
       "      <td>357</td>\n",
       "      <td>10447</td>\n",
       "      <td>0</td>\n",
       "      <td>23685</td>\n",
       "    </tr>\n",
       "    <tr>\n",
       "      <th>4</th>\n",
       "      <td>32019999229</td>\n",
       "      <td>THE CROSSING AT FIDDLE CREEK, INC.</td>\n",
       "      <td>1620 W CEDAR ST</td>\n",
       "      <td>STEPHENVILLE</td>\n",
       "      <td>TX</td>\n",
       "      <td>76401.0</td>\n",
       "      <td>72</td>\n",
       "      <td>1</td>\n",
       "      <td>THE CROSSING AT FIDDLE CREEK INC</td>\n",
       "      <td>2004 W SWAN ST</td>\n",
       "      <td>...</td>\n",
       "      <td>72</td>\n",
       "      <td>Y</td>\n",
       "      <td>N 643163</td>\n",
       "      <td>10/26/2006</td>\n",
       "      <td>08/31/2008</td>\n",
       "      <td>4841</td>\n",
       "      <td>2413</td>\n",
       "      <td>4620</td>\n",
       "      <td>0</td>\n",
       "      <td>11874</td>\n",
       "    </tr>\n",
       "  </tbody>\n",
       "</table>\n",
       "<p>5 rows × 23 columns</p>\n",
       "</div>"
      ],
      "text/plain": [
       "   taxpayer_number                       taxpayer_name  \\\n",
       "0      32047970895        HONDURAS MAYA CAFE & BAR LLC   \n",
       "1      32049923835  MERMAID KARAOKE PRIVATE CLUB, INC.   \n",
       "2      32034036304                FENG KAI CORPORATION   \n",
       "3      14537211071               THE HUTTO SMITHS, LLC   \n",
       "4      32019999229  THE CROSSING AT FIDDLE CREEK, INC.   \n",
       "\n",
       "              taxpayer_address  taxpayer_city taxpayer_state  taxpayer_zip  \\\n",
       "0                8011 HAZEN ST        HOUSTON             TX       77036.0   \n",
       "1  2639 WALNUT HILL LN STE 225         DALLAS             TX       75229.0   \n",
       "2            8427 BOULEVARD 26  N RICHLND HLS             TX       76180.0   \n",
       "3           429 LITTLE LAKE RD          HUTTO             TX       78634.0   \n",
       "4              1620 W CEDAR ST   STEPHENVILLE             TX       76401.0   \n",
       "\n",
       "   taxpayer_county  location_number                     location_name  \\\n",
       "0              101                1      HONDURAS MAYA CAFE & BAR LLC   \n",
       "1               57                1      MERMAID KARAOKE PRIVATE CLUB   \n",
       "2              220                1                    JAPANESE GRILL   \n",
       "3              246                1         THE DOWNTOWN HALL OF FAME   \n",
       "4               72                1  THE CROSSING AT FIDDLE CREEK INC   \n",
       "\n",
       "             location_address  ... location_county inside_outside_city_limits  \\\n",
       "0    5945 BELLAIRE BLVD STE B  ...             101                          Y   \n",
       "1  1310 W CAMPBELL RD STE 103  ...              57                          Y   \n",
       "2           8427 BOULEVARD 26  ...             220                          Y   \n",
       "3                 205 EAST ST  ...             246                          Y   \n",
       "4              2004 W SWAN ST  ...              72                          Y   \n",
       "\n",
       "   tabc_permit_number  responsibility_begin_date obligation_end_date  \\\n",
       "0            MB817033                 08/16/2012          07/31/2019   \n",
       "1            N 837378                 04/12/2013          08/31/2014   \n",
       "2            MB576670                 05/01/2008          06/30/2016   \n",
       "3            MB791778                 12/06/2011          03/31/2018   \n",
       "4            N 643163                 10/26/2006          08/31/2008   \n",
       "\n",
       "  liquor_receipts wine_receipts beer_receipts  cover_charge_receipts  \\\n",
       "0               0             0             0                      0   \n",
       "1             480           185          1374                      0   \n",
       "2            1143           167           669                      0   \n",
       "3           12881           357         10447                      0   \n",
       "4            4841          2413          4620                      0   \n",
       "\n",
       "   total_receipts  \n",
       "0               0  \n",
       "1            2039  \n",
       "2            1979  \n",
       "3           23685  \n",
       "4           11874  \n",
       "\n",
       "[5 rows x 23 columns]"
      ]
     },
     "execution_count": 35,
     "metadata": {},
     "output_type": "execute_result"
    }
   ],
   "source": [
    "df.head()"
   ]
  },
  {
   "cell_type": "code",
   "execution_count": 38,
   "id": "ed5095c7-0e23-402d-8096-e40672f69a19",
   "metadata": {},
   "outputs": [
    {
     "data": {
      "text/html": [
       "<div>\n",
       "<style scoped>\n",
       "    .dataframe tbody tr th:only-of-type {\n",
       "        vertical-align: middle;\n",
       "    }\n",
       "\n",
       "    .dataframe tbody tr th {\n",
       "        vertical-align: top;\n",
       "    }\n",
       "\n",
       "    .dataframe thead th {\n",
       "        text-align: right;\n",
       "    }\n",
       "</style>\n",
       "<table border=\"1\" class=\"dataframe\">\n",
       "  <thead>\n",
       "    <tr style=\"text-align: right;\">\n",
       "      <th></th>\n",
       "      <th>taxpayer_number</th>\n",
       "      <th>taxpayer_name</th>\n",
       "      <th>taxpayer_address</th>\n",
       "      <th>taxpayer_city</th>\n",
       "      <th>taxpayer_state</th>\n",
       "      <th>taxpayer_zip</th>\n",
       "      <th>taxpayer_county</th>\n",
       "      <th>location_number</th>\n",
       "      <th>location_name</th>\n",
       "      <th>location_address</th>\n",
       "      <th>...</th>\n",
       "      <th>location_county</th>\n",
       "      <th>inside_outside_city_limits</th>\n",
       "      <th>tabc_permit_number</th>\n",
       "      <th>responsibility_begin_date</th>\n",
       "      <th>obligation_end_date</th>\n",
       "      <th>liquor_receipts</th>\n",
       "      <th>wine_receipts</th>\n",
       "      <th>beer_receipts</th>\n",
       "      <th>cover_charge_receipts</th>\n",
       "      <th>total_receipts</th>\n",
       "    </tr>\n",
       "  </thead>\n",
       "  <tbody>\n",
       "    <tr>\n",
       "      <th>35</th>\n",
       "      <td>17428720902</td>\n",
       "      <td>MANDO'S RIVER SEAFOOD RESTAURANT INC</td>\n",
       "      <td>2610 JOHNSON GRASS</td>\n",
       "      <td>SAN ANTONIO</td>\n",
       "      <td>TX</td>\n",
       "      <td>78251.0</td>\n",
       "      <td>15</td>\n",
       "      <td>2</td>\n",
       "      <td>MANDO'S RIVER SEAFOOD RESTAURANT INC</td>\n",
       "      <td>2918 W COMMERCE ST</td>\n",
       "      <td>...</td>\n",
       "      <td>15</td>\n",
       "      <td>Y</td>\n",
       "      <td>MB650751</td>\n",
       "      <td>02/06/2007</td>\n",
       "      <td>06/30/2022</td>\n",
       "      <td>111</td>\n",
       "      <td>0</td>\n",
       "      <td>2304</td>\n",
       "      <td>0</td>\n",
       "      <td>2415</td>\n",
       "    </tr>\n",
       "    <tr>\n",
       "      <th>96</th>\n",
       "      <td>32049153466</td>\n",
       "      <td>JAMAICA JAMAICA CUISINE LLC</td>\n",
       "      <td>2026 AUSTIN HWY</td>\n",
       "      <td>SAN ANTONIO</td>\n",
       "      <td>TX</td>\n",
       "      <td>78218.0</td>\n",
       "      <td>15</td>\n",
       "      <td>3</td>\n",
       "      <td>JAMAICA JAMAICA CUISINE</td>\n",
       "      <td>6909 N LOOP 1604 E STE VC09A</td>\n",
       "      <td>...</td>\n",
       "      <td>15</td>\n",
       "      <td>Y</td>\n",
       "      <td>MB1083222</td>\n",
       "      <td>03/09/2020</td>\n",
       "      <td>04/30/2020</td>\n",
       "      <td>0</td>\n",
       "      <td>0</td>\n",
       "      <td>0</td>\n",
       "      <td>0</td>\n",
       "      <td>0</td>\n",
       "    </tr>\n",
       "    <tr>\n",
       "      <th>191</th>\n",
       "      <td>17422892665</td>\n",
       "      <td>ORIGINAL CADILLAC BAR OF NUEVO LAREDO, INC.</td>\n",
       "      <td>20 WORTHSHAM DR</td>\n",
       "      <td>SAN ANTONIO</td>\n",
       "      <td>TX</td>\n",
       "      <td>78257.0</td>\n",
       "      <td>15</td>\n",
       "      <td>1</td>\n",
       "      <td>ORIGINAL CADILLAC BAR OF NUEVO LAREDO INC</td>\n",
       "      <td>212 S FLORES ST</td>\n",
       "      <td>...</td>\n",
       "      <td>15</td>\n",
       "      <td>Y</td>\n",
       "      <td>MB159568</td>\n",
       "      <td>11/30/1993</td>\n",
       "      <td>07/31/2010</td>\n",
       "      <td>28094</td>\n",
       "      <td>378</td>\n",
       "      <td>33238</td>\n",
       "      <td>0</td>\n",
       "      <td>61710</td>\n",
       "    </tr>\n",
       "    <tr>\n",
       "      <th>242</th>\n",
       "      <td>17426545970</td>\n",
       "      <td>CB RESTAURANTS, INC.</td>\n",
       "      <td>9510 TIOGA DR STE 102</td>\n",
       "      <td>SAN ANTONIO</td>\n",
       "      <td>TX</td>\n",
       "      <td>78230.0</td>\n",
       "      <td>15</td>\n",
       "      <td>1</td>\n",
       "      <td>SUGARS</td>\n",
       "      <td>2731 NW LOOP 410</td>\n",
       "      <td>...</td>\n",
       "      <td>15</td>\n",
       "      <td>Y</td>\n",
       "      <td>MB437968</td>\n",
       "      <td>02/01/2001</td>\n",
       "      <td>10/31/2015</td>\n",
       "      <td>164240</td>\n",
       "      <td>3169</td>\n",
       "      <td>100933</td>\n",
       "      <td>0</td>\n",
       "      <td>268342</td>\n",
       "    </tr>\n",
       "    <tr>\n",
       "      <th>245</th>\n",
       "      <td>32008170998</td>\n",
       "      <td>JOHN WAYNE DOWNUM</td>\n",
       "      <td>PO BOX 15858</td>\n",
       "      <td>SAN ANTONIO</td>\n",
       "      <td>TX</td>\n",
       "      <td>78212.0</td>\n",
       "      <td>15</td>\n",
       "      <td>2</td>\n",
       "      <td>THE ANNEX</td>\n",
       "      <td>330 SAN PEDRO AVE</td>\n",
       "      <td>...</td>\n",
       "      <td>15</td>\n",
       "      <td>Y</td>\n",
       "      <td>MB409424</td>\n",
       "      <td>03/21/1997</td>\n",
       "      <td>10/31/2013</td>\n",
       "      <td>35051</td>\n",
       "      <td>439</td>\n",
       "      <td>17515</td>\n",
       "      <td>0</td>\n",
       "      <td>53005</td>\n",
       "    </tr>\n",
       "    <tr>\n",
       "      <th>...</th>\n",
       "      <td>...</td>\n",
       "      <td>...</td>\n",
       "      <td>...</td>\n",
       "      <td>...</td>\n",
       "      <td>...</td>\n",
       "      <td>...</td>\n",
       "      <td>...</td>\n",
       "      <td>...</td>\n",
       "      <td>...</td>\n",
       "      <td>...</td>\n",
       "      <td>...</td>\n",
       "      <td>...</td>\n",
       "      <td>...</td>\n",
       "      <td>...</td>\n",
       "      <td>...</td>\n",
       "      <td>...</td>\n",
       "      <td>...</td>\n",
       "      <td>...</td>\n",
       "      <td>...</td>\n",
       "      <td>...</td>\n",
       "      <td>...</td>\n",
       "    </tr>\n",
       "    <tr>\n",
       "      <th>2947949</th>\n",
       "      <td>32037887364</td>\n",
       "      <td>LD LIFT, INC.</td>\n",
       "      <td>101 PEREIDA ST</td>\n",
       "      <td>SAN ANTONIO</td>\n",
       "      <td>TX</td>\n",
       "      <td>78210.0</td>\n",
       "      <td>15</td>\n",
       "      <td>1</td>\n",
       "      <td>SOUTHTOWN 101</td>\n",
       "      <td>101 PEREIDA ST</td>\n",
       "      <td>...</td>\n",
       "      <td>15</td>\n",
       "      <td>Y</td>\n",
       "      <td>MB814536</td>\n",
       "      <td>07/25/2012</td>\n",
       "      <td>12/31/2022</td>\n",
       "      <td>42483</td>\n",
       "      <td>683</td>\n",
       "      <td>30851</td>\n",
       "      <td>0</td>\n",
       "      <td>74017</td>\n",
       "    </tr>\n",
       "    <tr>\n",
       "      <th>2948125</th>\n",
       "      <td>18106032016</td>\n",
       "      <td>CLUB SIRIUS LLC</td>\n",
       "      <td>228 LOSOYA ST</td>\n",
       "      <td>SAN ANTONIO</td>\n",
       "      <td>TX</td>\n",
       "      <td>78205.0</td>\n",
       "      <td>15</td>\n",
       "      <td>1</td>\n",
       "      <td>CLUB SIRIUS</td>\n",
       "      <td>228 LOSOYA ST</td>\n",
       "      <td>...</td>\n",
       "      <td>15</td>\n",
       "      <td>Y</td>\n",
       "      <td>MB544584</td>\n",
       "      <td>11/03/2003</td>\n",
       "      <td>12/31/2022</td>\n",
       "      <td>31394</td>\n",
       "      <td>12</td>\n",
       "      <td>12808</td>\n",
       "      <td>0</td>\n",
       "      <td>44214</td>\n",
       "    </tr>\n",
       "    <tr>\n",
       "      <th>2948172</th>\n",
       "      <td>10437598153</td>\n",
       "      <td>LA HACIENDA DE LOS BARRIOS, LTD.</td>\n",
       "      <td>18747 REDLAND RD</td>\n",
       "      <td>SAN ANTONIO</td>\n",
       "      <td>TX</td>\n",
       "      <td>78259.0</td>\n",
       "      <td>15</td>\n",
       "      <td>1</td>\n",
       "      <td>LA HACIENDA DE LOS BARRIOS</td>\n",
       "      <td>18747 REDLAND RD</td>\n",
       "      <td>...</td>\n",
       "      <td>15</td>\n",
       "      <td>Y</td>\n",
       "      <td>MB560372</td>\n",
       "      <td>07/05/2004</td>\n",
       "      <td>12/31/2022</td>\n",
       "      <td>67646</td>\n",
       "      <td>3234</td>\n",
       "      <td>13204</td>\n",
       "      <td>0</td>\n",
       "      <td>84084</td>\n",
       "    </tr>\n",
       "    <tr>\n",
       "      <th>2948220</th>\n",
       "      <td>32047911139</td>\n",
       "      <td>HARWOOD-COOK, LIMITED LIABILITY COMPANY</td>\n",
       "      <td>PO BOX 6834</td>\n",
       "      <td>SAN ANTONIO</td>\n",
       "      <td>TX</td>\n",
       "      <td>78209.0</td>\n",
       "      <td>15</td>\n",
       "      <td>2</td>\n",
       "      <td>THE S.A. COUNTRY SALOON</td>\n",
       "      <td>1134 W HILDEBRAND AVE</td>\n",
       "      <td>...</td>\n",
       "      <td>15</td>\n",
       "      <td>Y</td>\n",
       "      <td>MB818839</td>\n",
       "      <td>02/01/2021</td>\n",
       "      <td>12/31/2022</td>\n",
       "      <td>18092</td>\n",
       "      <td>79</td>\n",
       "      <td>9441</td>\n",
       "      <td>0</td>\n",
       "      <td>27612</td>\n",
       "    </tr>\n",
       "    <tr>\n",
       "      <th>2948229</th>\n",
       "      <td>32051554866</td>\n",
       "      <td>ENCINITO, LLC</td>\n",
       "      <td>300 PASEO ENCINAL ST</td>\n",
       "      <td>SAN ANTONIO</td>\n",
       "      <td>TX</td>\n",
       "      <td>78212.0</td>\n",
       "      <td>15</td>\n",
       "      <td>1</td>\n",
       "      <td>CAMP COMFORT</td>\n",
       "      <td>601 WATER ST</td>\n",
       "      <td>...</td>\n",
       "      <td>130</td>\n",
       "      <td>N</td>\n",
       "      <td>MB1091042</td>\n",
       "      <td>06/12/2020</td>\n",
       "      <td>06/30/2022</td>\n",
       "      <td>0</td>\n",
       "      <td>0</td>\n",
       "      <td>0</td>\n",
       "      <td>0</td>\n",
       "      <td>0</td>\n",
       "    </tr>\n",
       "  </tbody>\n",
       "</table>\n",
       "<p>174462 rows × 23 columns</p>\n",
       "</div>"
      ],
      "text/plain": [
       "         taxpayer_number                                taxpayer_name  \\\n",
       "35           17428720902         MANDO'S RIVER SEAFOOD RESTAURANT INC   \n",
       "96           32049153466                  JAMAICA JAMAICA CUISINE LLC   \n",
       "191          17422892665  ORIGINAL CADILLAC BAR OF NUEVO LAREDO, INC.   \n",
       "242          17426545970                         CB RESTAURANTS, INC.   \n",
       "245          32008170998                            JOHN WAYNE DOWNUM   \n",
       "...                  ...                                          ...   \n",
       "2947949      32037887364                                LD LIFT, INC.   \n",
       "2948125      18106032016                              CLUB SIRIUS LLC   \n",
       "2948172      10437598153             LA HACIENDA DE LOS BARRIOS, LTD.   \n",
       "2948220      32047911139      HARWOOD-COOK, LIMITED LIABILITY COMPANY   \n",
       "2948229      32051554866                                ENCINITO, LLC   \n",
       "\n",
       "              taxpayer_address taxpayer_city taxpayer_state  taxpayer_zip  \\\n",
       "35          2610 JOHNSON GRASS   SAN ANTONIO             TX       78251.0   \n",
       "96             2026 AUSTIN HWY   SAN ANTONIO             TX       78218.0   \n",
       "191            20 WORTHSHAM DR   SAN ANTONIO             TX       78257.0   \n",
       "242      9510 TIOGA DR STE 102   SAN ANTONIO             TX       78230.0   \n",
       "245               PO BOX 15858   SAN ANTONIO             TX       78212.0   \n",
       "...                        ...           ...            ...           ...   \n",
       "2947949         101 PEREIDA ST   SAN ANTONIO             TX       78210.0   \n",
       "2948125          228 LOSOYA ST   SAN ANTONIO             TX       78205.0   \n",
       "2948172       18747 REDLAND RD   SAN ANTONIO             TX       78259.0   \n",
       "2948220            PO BOX 6834   SAN ANTONIO             TX       78209.0   \n",
       "2948229   300 PASEO ENCINAL ST   SAN ANTONIO             TX       78212.0   \n",
       "\n",
       "         taxpayer_county  location_number  \\\n",
       "35                    15                2   \n",
       "96                    15                3   \n",
       "191                   15                1   \n",
       "242                   15                1   \n",
       "245                   15                2   \n",
       "...                  ...              ...   \n",
       "2947949               15                1   \n",
       "2948125               15                1   \n",
       "2948172               15                1   \n",
       "2948220               15                2   \n",
       "2948229               15                1   \n",
       "\n",
       "                                     location_name  \\\n",
       "35            MANDO'S RIVER SEAFOOD RESTAURANT INC   \n",
       "96                         JAMAICA JAMAICA CUISINE   \n",
       "191      ORIGINAL CADILLAC BAR OF NUEVO LAREDO INC   \n",
       "242                                         SUGARS   \n",
       "245                                      THE ANNEX   \n",
       "...                                            ...   \n",
       "2947949                              SOUTHTOWN 101   \n",
       "2948125                                CLUB SIRIUS   \n",
       "2948172                 LA HACIENDA DE LOS BARRIOS   \n",
       "2948220                    THE S.A. COUNTRY SALOON   \n",
       "2948229                               CAMP COMFORT   \n",
       "\n",
       "                     location_address  ... location_county  \\\n",
       "35                 2918 W COMMERCE ST  ...              15   \n",
       "96       6909 N LOOP 1604 E STE VC09A  ...              15   \n",
       "191                   212 S FLORES ST  ...              15   \n",
       "242                  2731 NW LOOP 410  ...              15   \n",
       "245                 330 SAN PEDRO AVE  ...              15   \n",
       "...                               ...  ...             ...   \n",
       "2947949                101 PEREIDA ST  ...              15   \n",
       "2948125                 228 LOSOYA ST  ...              15   \n",
       "2948172              18747 REDLAND RD  ...              15   \n",
       "2948220         1134 W HILDEBRAND AVE  ...              15   \n",
       "2948229                  601 WATER ST  ...             130   \n",
       "\n",
       "        inside_outside_city_limits  tabc_permit_number  \\\n",
       "35                               Y            MB650751   \n",
       "96                               Y           MB1083222   \n",
       "191                              Y            MB159568   \n",
       "242                              Y            MB437968   \n",
       "245                              Y            MB409424   \n",
       "...                            ...                 ...   \n",
       "2947949                          Y            MB814536   \n",
       "2948125                          Y            MB544584   \n",
       "2948172                          Y            MB560372   \n",
       "2948220                          Y            MB818839   \n",
       "2948229                          N           MB1091042   \n",
       "\n",
       "         responsibility_begin_date obligation_end_date liquor_receipts  \\\n",
       "35                      02/06/2007          06/30/2022             111   \n",
       "96                      03/09/2020          04/30/2020               0   \n",
       "191                     11/30/1993          07/31/2010           28094   \n",
       "242                     02/01/2001          10/31/2015          164240   \n",
       "245                     03/21/1997          10/31/2013           35051   \n",
       "...                            ...                 ...             ...   \n",
       "2947949                 07/25/2012          12/31/2022           42483   \n",
       "2948125                 11/03/2003          12/31/2022           31394   \n",
       "2948172                 07/05/2004          12/31/2022           67646   \n",
       "2948220                 02/01/2021          12/31/2022           18092   \n",
       "2948229                 06/12/2020          06/30/2022               0   \n",
       "\n",
       "        wine_receipts beer_receipts  cover_charge_receipts  total_receipts  \n",
       "35                  0          2304                      0            2415  \n",
       "96                  0             0                      0               0  \n",
       "191               378         33238                      0           61710  \n",
       "242              3169        100933                      0          268342  \n",
       "245               439         17515                      0           53005  \n",
       "...               ...           ...                    ...             ...  \n",
       "2947949           683         30851                      0           74017  \n",
       "2948125            12         12808                      0           44214  \n",
       "2948172          3234         13204                      0           84084  \n",
       "2948220            79          9441                      0           27612  \n",
       "2948229             0             0                      0               0  \n",
       "\n",
       "[174462 rows x 23 columns]"
      ]
     },
     "execution_count": 38,
     "metadata": {},
     "output_type": "execute_result"
    }
   ],
   "source": [
    "df[df.taxpayer_city == 'SAN ANTONIO']"
   ]
  },
  {
   "cell_type": "code",
   "execution_count": null,
   "id": "a858229e-96a3-40e1-a4b1-47d0c1eaa188",
   "metadata": {},
   "outputs": [],
   "source": []
  }
 ],
 "metadata": {
  "kernelspec": {
   "display_name": "Python 3 (ipykernel)",
   "language": "python",
   "name": "python3"
  },
  "language_info": {
   "codemirror_mode": {
    "name": "ipython",
    "version": 3
   },
   "file_extension": ".py",
   "mimetype": "text/x-python",
   "name": "python",
   "nbconvert_exporter": "python",
   "pygments_lexer": "ipython3",
   "version": "3.9.13"
  }
 },
 "nbformat": 4,
 "nbformat_minor": 5
}
